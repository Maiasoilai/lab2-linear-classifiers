{
  "nbformat": 4,
  "nbformat_minor": 0,
  "metadata": {
    "colab": {
      "provenance": [],
      "authorship_tag": "ABX9TyN+hwL8X9hi/A3Fo/meqjhz",
      "include_colab_link": true
    },
    "kernelspec": {
      "name": "python3",
      "display_name": "Python 3"
    },
    "language_info": {
      "name": "python"
    }
  },
  "cells": [
    {
      "cell_type": "markdown",
      "metadata": {
        "id": "view-in-github",
        "colab_type": "text"
      },
      "source": [
        "<a href=\"https://colab.research.google.com/github/Maiasoilai/lab2-linear-classifiers/blob/main/230317707_Lab2.ipynb\" target=\"_parent\"><img src=\"https://colab.research.google.com/assets/colab-badge.svg\" alt=\"Open In Colab\"/></a>"
      ]
    },
    {
      "cell_type": "code",
      "source": [
        "import numpy as np\n",
        "\n",
        "class Perceptron(object):\n",
        "\n",
        "    def __init__(self, eta=0.01, n_iter=50, random_state=1):\n",
        "        self.eta = eta\n",
        "        self.n_iter = n_iter\n",
        "        self.random_state = random_state\n",
        "\n",
        "    def fit(self, X, y):\n",
        "\n",
        "        rgen = np.random.RandomState(self.random_state)\n",
        "        self.w_ = rgen.normal(loc=0.0, scale=0.01, size=1 + X.shape[1])\n",
        "        self.errors_ = []\n",
        "\n",
        "        for _ in range(self.n_iter):\n",
        "            errors = 0\n",
        "            for xi, target in zip(X, y):\n",
        "                update = self.eta * (target - self.predict(xi))\n",
        "                self.w_[1:] += update * xi\n",
        "                self.w_[0] += update\n",
        "                errors += int(update != 0.0)\n",
        "            self.errors_.append(errors)\n",
        "        return self\n",
        "\n",
        "    def net_input(self, X):\n",
        "        return np.dot(X, self.w_[1:]) + self.w_[0]\n",
        "\n",
        "    def predict(self, X):\n",
        "        return np.where(self.net_input(X) >= 0.0, 1, -1)"
      ],
      "metadata": {
        "id": "c9hAz9iaxn0l"
      },
      "execution_count": null,
      "outputs": []
    },
    {
      "cell_type": "code",
      "source": [
        "import numpy as np\n",
        "X = np.array([[2, 3], [1, 1], [4, 5]])\n",
        "y = np.array([1, -1, 1])\n",
        "m = Perceptron(eta=0.1, n_iter=20)\n",
        "m.fit(X, y)\n",
        "print(m.predict(np.array([4, 5])))\n",
        "print(m.errors_)"
      ],
      "metadata": {
        "colab": {
          "base_uri": "https://localhost:8080/"
        },
        "id": "It7W4d8_VTel",
        "outputId": "52082ce3-ff8d-4332-9d45-193bc2820e8c"
      },
      "execution_count": null,
      "outputs": [
        {
          "output_type": "stream",
          "name": "stdout",
          "text": [
            "1\n",
            "[2, 1, 2, 1, 1, 1, 0, 0, 0, 0, 0, 0, 0, 0, 0, 0, 0, 0, 0, 0]\n"
          ]
        }
      ]
    },
    {
      "cell_type": "code",
      "source": [
        "from sklearn.datasets import load_iris\n",
        "import numpy as np\n",
        "\n",
        "iris = load_iris()\n",
        "X_full = iris.data\n",
        "y_full = iris.target\n",
        "\n",
        "binary_filter = (y_full == 0) | (y_full == 1)\n",
        "X = X_full[binary_filter]\n",
        "y = y_full[binary_filter]\n",
        "\n",
        "X = X[:, [0, 2]]\n",
        "\n",
        "y = np.where(y == 0, -1, 1)\n",
        "\n",
        "print(\"Shape of X:\", X.shape)\n",
        "print(\"Shape of y:\", y.shape)\n"
      ],
      "metadata": {
        "colab": {
          "base_uri": "https://localhost:8080/"
        },
        "id": "JciGCGFLVdNO",
        "outputId": "d76435e1-c388-468c-c27d-b3688c26ead3"
      },
      "execution_count": null,
      "outputs": [
        {
          "output_type": "stream",
          "name": "stdout",
          "text": [
            "Shape of X: (100, 2)\n",
            "Shape of y: (100,)\n"
          ]
        }
      ]
    },
    {
      "cell_type": "code",
      "source": [
        "ppn = Perceptron(eta=0.01, n_iter=10, random_state=1)\n",
        "\n",
        "ppn.fit(X, y)\n",
        "\n",
        "print(\"Weights:\", ppn.w_)\n",
        "print(\"Misclassifications in each epoch:\", ppn.errors_)"
      ],
      "metadata": {
        "colab": {
          "base_uri": "https://localhost:8080/"
        },
        "id": "58wXnp14VkBS",
        "outputId": "63f6bbeb-2c4a-4088-d075-d6d36d1b507c"
      },
      "execution_count": null,
      "outputs": [
        {
          "output_type": "stream",
          "name": "stdout",
          "text": [
            "Weights: [-0.02375655 -0.07011756  0.17671828]\n",
            "Misclassifications in each epoch: [1, 3, 3, 2, 1, 0, 0, 0, 0, 0]\n"
          ]
        }
      ]
    },
    {
      "cell_type": "code",
      "source": [
        "new_sample = np.array([5.0, 1.5])\n",
        "\n",
        "pred_class = ppn.predict(new_sample)\n",
        "print(\"Predicted class (using -1 for Setosa, +1 for Versicolor):\", pred_class)\n",
        "\n",
        "preds = ppn.predict(X)\n",
        "accuracy = np.mean(preds == y) * 100\n",
        "print(f\"Training accuracy: {accuracy:.2f}%\")\n"
      ],
      "metadata": {
        "colab": {
          "base_uri": "https://localhost:8080/"
        },
        "id": "48Q11FlqVrq0",
        "outputId": "a4b5c37d-60c8-48d3-d882-5b57cc6883a7"
      },
      "execution_count": null,
      "outputs": [
        {
          "output_type": "stream",
          "name": "stdout",
          "text": [
            "Predicted class (using -1 for Setosa, +1 for Versicolor): -1\n",
            "Training accuracy: 100.00%\n"
          ]
        }
      ]
    }
  ]
}